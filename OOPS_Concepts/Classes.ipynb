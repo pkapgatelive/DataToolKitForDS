{
 "cells": [
  {
   "cell_type": "code",
   "execution_count": 1,
   "metadata": {},
   "outputs": [],
   "source": [
    "# V1.1\n",
    "class Car:\n",
    "    def __init__(self, body_type, engine, fule_type):\n",
    "        self.body_type = body_type\n",
    "        self.engine  = engine\n",
    "        self.fule_type = fule_type\n",
    "\n",
    "    def test(self):\n",
    "        print(\"This is my first mention here\")"
   ]
  },
  {
   "cell_type": "markdown",
   "metadata": {},
   "source": [
    "* Self: It a pointer of the class that provides the information  to class, which is, the methods and the variable inside the class belongs to the class itself.\n",
    "\n",
    "    self is not a keyword, its behave like pointer for the class.\n",
    "\n",
    "* __init__(): It is a method/construct or the class without define also it get called"
   ]
  },
  {
   "cell_type": "code",
   "execution_count": 3,
   "metadata": {},
   "outputs": [],
   "source": [
    "fortuner = Car('SUV', 'BS5','Petrol')"
   ]
  },
  {
   "cell_type": "code",
   "execution_count": 4,
   "metadata": {},
   "outputs": [],
   "source": [
    "nexon = Car(\"SUV\", 'bs4', \"petrol\")"
   ]
  },
  {
   "cell_type": "code",
   "execution_count": 6,
   "metadata": {},
   "outputs": [
    {
     "name": "stdout",
     "output_type": "stream",
     "text": [
      "This is my first mention here\n",
      "None\n",
      "SUV\n"
     ]
    }
   ],
   "source": [
    "# Accessing the values of class through the variable/object\n",
    "print(fortuner.test())\n",
    "print(fortuner.body_type)\n"
   ]
  },
  {
   "cell_type": "code",
   "execution_count": 7,
   "metadata": {},
   "outputs": [
    {
     "name": "stdout",
     "output_type": "stream",
     "text": [
      "This is my first mention here\n",
      "petrol\n"
     ]
    }
   ],
   "source": [
    "# Accessing the values of class through the variable/object\n",
    "nexon.test()\n",
    "print(nexon.fule_type)\n"
   ]
  },
  {
   "cell_type": "code",
   "execution_count": 8,
   "metadata": {},
   "outputs": [],
   "source": [
    "# V1.2\n",
    "class Car:\n",
    "    def __init__(self, body_type, engine, fule_type):\n",
    "        self.a = body_type\n",
    "        self.b  = engine\n",
    "        self.c = fule_type\n",
    "# Here class will understand the a,b,c and rest of like body_type are the referance variable only\n",
    "\n",
    "    def test(self):\n",
    "        print(\"This is my first mention here\")"
   ]
  },
  {
   "cell_type": "code",
   "execution_count": 10,
   "metadata": {},
   "outputs": [],
   "source": [
    "# V1.3 :-> instead of self we can write any thing\n",
    "class Car:\n",
    "    def __init__(pappu, body_type, engine, fule_type):\n",
    "        pappu.a = body_type\n",
    "        pappu.b  = engine\n",
    "        pappu.c = fule_type\n",
    "# Here class will understand the a,b,c and rest of like body_type are the referance variable only\n",
    "\n",
    "    def test(pappu):\n",
    "        print(\"This is my first mention here\")"
   ]
  },
  {
   "cell_type": "markdown",
   "metadata": {},
   "source": [
    "__init__: method is not compalsary to define. Its ok if we didnt define the method. You can define that method when we like to pass some data the time of class initialization."
   ]
  },
  {
   "cell_type": "code",
   "execution_count": null,
   "metadata": {},
   "outputs": [],
   "source": []
  },
  {
   "cell_type": "code",
   "execution_count": 23,
   "metadata": {},
   "outputs": [],
   "source": [
    "# V2.1\n",
    "class ListParsar :\n",
    "    def parcer(self, a):\n",
    "        if type(a) == list :\n",
    "            for i in a:\n",
    "                print(i)\n",
    "        else : \n",
    "            print(\"the format is not matching\")\n"
   ]
  },
  {
   "cell_type": "code",
   "execution_count": 25,
   "metadata": {},
   "outputs": [],
   "source": [
    "c = ListParsar()"
   ]
  },
  {
   "cell_type": "code",
   "execution_count": 24,
   "metadata": {},
   "outputs": [
    {
     "name": "stdout",
     "output_type": "stream",
     "text": [
      "1\n",
      "2\n",
      "3\n",
      "4\n",
      "5\n",
      "6\n"
     ]
    }
   ],
   "source": [
    "# Passing the data in the list format\n",
    "c.parcer([1,2,3,4,5,6])"
   ]
  },
  {
   "cell_type": "code",
   "execution_count": 26,
   "metadata": {},
   "outputs": [
    {
     "name": "stdout",
     "output_type": "stream",
     "text": [
      "the format is not matching\n"
     ]
    }
   ],
   "source": [
    "# Passing the data in the set format\n",
    "c.parcer((1,2,3,4,5,6))"
   ]
  },
  {
   "cell_type": "code",
   "execution_count": 27,
   "metadata": {},
   "outputs": [],
   "source": [
    "# V2.2\n",
    "class ListParsar :\n",
    "    def parcer(self, a):\n",
    "        if type(a) == list :\n",
    "            for i in a:\n",
    "                print(i)\n",
    "        else : \n",
    "            print(\"the format is not matching\")\n",
    "\n",
    "    def reversor_list(self, z) :\n",
    "        if type(z) == list:\n",
    "            return z[::-1]\n"
   ]
  },
  {
   "cell_type": "code",
   "execution_count": 28,
   "metadata": {},
   "outputs": [
    {
     "data": {
      "text/plain": [
       "[5, 4, 3, 2, 1]"
      ]
     },
     "execution_count": 28,
     "metadata": {},
     "output_type": "execute_result"
    }
   ],
   "source": [
    "c = ListParsar()\n",
    "c.reversor_list([1,2,3,4,5])"
   ]
  },
  {
   "cell_type": "code",
   "execution_count": 41,
   "metadata": {},
   "outputs": [],
   "source": [
    "# by pre-define function\n",
    "\n",
    "l = [1,2,3,4,5]\n",
    "\n",
    "l.reverse()\n"
   ]
  },
  {
   "cell_type": "code",
   "execution_count": 42,
   "metadata": {},
   "outputs": [
    {
     "data": {
      "text/plain": [
       "[5, 4, 3, 2, 1]"
      ]
     },
     "execution_count": 42,
     "metadata": {},
     "output_type": "execute_result"
    }
   ],
   "source": [
    "l"
   ]
  },
  {
   "cell_type": "markdown",
   "metadata": {},
   "source": [
    "*Here I am passing list again and again in the class to resolve that will write the following code"
   ]
  },
  {
   "cell_type": "code",
   "execution_count": 64,
   "metadata": {},
   "outputs": [],
   "source": [
    "# V2.3\n",
    "class ListParsar :\n",
    "\n",
    "    def __init__(self, l):\n",
    "        self.l = l\n",
    "        \n",
    "    def parcer(self):\n",
    "        if type(self.l) == list :\n",
    "            for i in l:\n",
    "                print(i)\n",
    "        else : \n",
    "            print(\"the format is not matching\")\n",
    "\n",
    "    def reversor_list(self) :\n",
    "        if type(self.l) == list:\n",
    "            return self.l[::-1]\n",
    "\n",
    "\n",
    "# So now i will pass the data through the class and will \n",
    "# access the multime methods and performe the operation on\n",
    "# same data.\n",
    "# and will not pass any data iinto my methods\n",
    "\n",
    "# In addition, we can pass the list data through one method and can acess into another methods.\n"
   ]
  },
  {
   "cell_type": "code",
   "execution_count": 65,
   "metadata": {},
   "outputs": [],
   "source": [
    "calss_obj = ListParsar([1,2,3,4,5,6])\n",
    "\n"
   ]
  },
  {
   "cell_type": "code",
   "execution_count": 67,
   "metadata": {},
   "outputs": [
    {
     "data": {
      "text/plain": [
       "[6, 5, 4, 3, 2, 1]"
      ]
     },
     "execution_count": 67,
     "metadata": {},
     "output_type": "execute_result"
    }
   ],
   "source": [
    "calss_obj.reversor_list() # type: ignore"
   ]
  },
  {
   "cell_type": "markdown",
   "metadata": {},
   "source": [
    "Create a class for the dictonary parsing."
   ]
  },
  {
   "cell_type": "code",
   "execution_count": 78,
   "metadata": {},
   "outputs": [],
   "source": [
    "class DictonaryParsing :\n",
    "\n",
    "    def __init__(self, dict_var):\n",
    "        self.dict_var = dict_var\n",
    "\n",
    "    # function to return all the keys\n",
    "\n",
    "    def all_keys(self):\n",
    "        if type(self.dict_var) == dict :\n",
    "            return self.dict_var.keys()\n",
    "    \n",
    "    def all_values(self):\n",
    "        if type(self.dict_var) == dict :\n",
    "            return self.dict_var.values()\n",
    "    \n",
    "    def exception_if_not_dict(self):\n",
    "            if type(self.dict_var) != dict:\n",
    "                raise Exception(self.dict_var, \"is not a dictonary\")\n",
    "\n",
    "    def user_input(self):\n",
    "        if type(self.dict_var) == dict :\n",
    "            for key, value in self.dict_var.items():\n",
    "                print(key, value)\n",
    "        \n",
    "    \n",
    "\n",
    "\n"
   ]
  },
  {
   "cell_type": "code",
   "execution_count": 79,
   "metadata": {},
   "outputs": [
    {
     "name": "stdout",
     "output_type": "stream",
     "text": [
      "dict_keys(['Name', 'Surname'])\n",
      "dict_values(['Pappu', 'Kapgate'])\n",
      "Name Pappu\n",
      "Surname Kapgate\n",
      "None\n"
     ]
    }
   ],
   "source": [
    "dict_var_out = {'Name': 'Pappu', 'Surname': 'Kapgate'} \n",
    "var_1 = DictonaryParsing(dict_var_out)\n",
    "\n",
    "print(var_1.all_keys())\n",
    "print(var_1.all_values())\n",
    "print(var_1.user_input())\n"
   ]
  },
  {
   "cell_type": "code",
   "execution_count": null,
   "metadata": {},
   "outputs": [],
   "source": []
  }
 ],
 "metadata": {
  "kernelspec": {
   "display_name": "Python 3.9.13 64-bit",
   "language": "python",
   "name": "python3"
  },
  "language_info": {
   "codemirror_mode": {
    "name": "ipython",
    "version": 3
   },
   "file_extension": ".py",
   "mimetype": "text/x-python",
   "name": "python",
   "nbconvert_exporter": "python",
   "pygments_lexer": "ipython3",
   "version": "3.9.13"
  },
  "orig_nbformat": 4,
  "vscode": {
   "interpreter": {
    "hash": "b0fa6594d8f4cbf19f97940f81e996739fb7646882a419484c72d19e05852a7e"
   }
  }
 },
 "nbformat": 4,
 "nbformat_minor": 2
}

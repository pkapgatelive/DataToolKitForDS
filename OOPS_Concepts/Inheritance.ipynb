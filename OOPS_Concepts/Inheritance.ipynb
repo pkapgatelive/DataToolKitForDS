{
 "cells": [
  {
   "cell_type": "code",
   "execution_count": 2,
   "metadata": {},
   "outputs": [],
   "source": [
    "#V1.1 \n",
    "class Xyz :\n",
    "    def __init__(self, a, b, c):\n",
    "        self.a = a\n",
    "        self.b = b\n",
    "        self.c = c\n",
    "    \n",
    "    def test(self):\n",
    "        return \"This is my first Test\"\n",
    "\n",
    "    def test1(self):\n",
    "        return \"This is my first Test 1\"\n",
    "\n",
    "    def test2(self):\n",
    "        return \"This is my first Test 2\"\n"
   ]
  },
  {
   "cell_type": "code",
   "execution_count": 16,
   "metadata": {},
   "outputs": [],
   "source": [
    "class Abc(Xyz):\n",
    "    pass"
   ]
  },
  {
   "cell_type": "code",
   "execution_count": 17,
   "metadata": {},
   "outputs": [],
   "source": [
    "p = Abc(1,2,3)"
   ]
  },
  {
   "cell_type": "code",
   "execution_count": 18,
   "metadata": {},
   "outputs": [
    {
     "data": {
      "text/plain": [
       "<__main__.Abc at 0x121d5fd90>"
      ]
     },
     "execution_count": 18,
     "metadata": {},
     "output_type": "execute_result"
    }
   ],
   "source": [
    "p"
   ]
  },
  {
   "cell_type": "code",
   "execution_count": 19,
   "metadata": {},
   "outputs": [
    {
     "data": {
      "text/plain": [
       "'This is my first Test'"
      ]
     },
     "execution_count": 19,
     "metadata": {},
     "output_type": "execute_result"
    }
   ],
   "source": [
    "p.test()"
   ]
  },
  {
   "cell_type": "code",
   "execution_count": 20,
   "metadata": {},
   "outputs": [
    {
     "ename": "TypeError",
     "evalue": "__init__() missing 3 required positional arguments: 'a', 'b', and 'c'",
     "output_type": "error",
     "traceback": [
      "\u001b[0;31m---------------------------------------------------------------------------\u001b[0m",
      "\u001b[0;31mTypeError\u001b[0m                                 Traceback (most recent call last)",
      "Cell \u001b[0;32mIn[20], line 1\u001b[0m\n\u001b[0;32m----> 1\u001b[0m q \u001b[38;5;241m=\u001b[39m \u001b[43mAbc\u001b[49m\u001b[43m(\u001b[49m\u001b[43m)\u001b[49m\n\u001b[1;32m      3\u001b[0m \u001b[38;5;66;03m# getting below error because class Abc is inheriting the Xyz class\u001b[39;00m\n",
      "\u001b[0;31mTypeError\u001b[0m: __init__() missing 3 required positional arguments: 'a', 'b', and 'c'"
     ]
    }
   ],
   "source": [
    "q = Abc()\n",
    "\n",
    "# getting below error because class Abc is inheriting the Xyz class\n"
   ]
  },
  {
   "cell_type": "code",
   "execution_count": 4,
   "metadata": {},
   "outputs": [],
   "source": [
    "class Abc(Xyz):\n",
    "    def test(self):\n",
    "        return \"this is a test math availabel in Abc\"\n",
    "        "
   ]
  },
  {
   "cell_type": "code",
   "execution_count": 5,
   "metadata": {},
   "outputs": [
    {
     "data": {
      "text/plain": [
       "'this is a test math availabel in Abc'"
      ]
     },
     "execution_count": 5,
     "metadata": {},
     "output_type": "execute_result"
    }
   ],
   "source": [
    "g = Abc(4,5,6)\n",
    "g.test()\n"
   ]
  },
  {
   "cell_type": "code",
   "execution_count": 25,
   "metadata": {},
   "outputs": [],
   "source": [
    "# V1.2\n",
    "class FirstTest:\n",
    "    def __init__(self, a, b, c):\n",
    "        self.a = a\n",
    "        self.b = b\n",
    "        self.c = c\n",
    "\n",
    "    def test(self):\n",
    "        return \"This is a math of firstTest class\"\n",
    "\n",
    "\n",
    "\n",
    "class SecondTest:\n",
    "\n",
    "    def __init__(self, p, q, v):\n",
    "        self.p = p\n",
    "        self.q = q\n",
    "        self.v = v\n",
    "\n",
    "    def test1(self):\n",
    "        return \"This is math from Second Class\"\n",
    "\n",
    "class child(FirstTest, SecondTest):\n",
    "     \n",
    "    # I want to access the variable a,b,c,p,q,v into the child class\n",
    "    # thats why we are writing the following code\n",
    "    # *args = means we can pass any number of arguments\n",
    "    def __init__(self, *args, **kwargs):\n",
    "        FirstTest.__init__(self, *args)\n",
    "        SecondTest.__init__(self, **kwargs)\n",
    " \n",
    "        "
   ]
  },
  {
   "cell_type": "code",
   "execution_count": 26,
   "metadata": {},
   "outputs": [],
   "source": [
    "n = child(9,8,7,p = 4, q = 5, v = 6)"
   ]
  },
  {
   "cell_type": "markdown",
   "metadata": {},
   "source": []
  },
  {
   "cell_type": "code",
   "execution_count": 28,
   "metadata": {},
   "outputs": [
    {
     "data": {
      "text/plain": [
       "9"
      ]
     },
     "execution_count": 28,
     "metadata": {},
     "output_type": "execute_result"
    }
   ],
   "source": [
    "n.a"
   ]
  },
  {
   "cell_type": "code",
   "execution_count": 29,
   "metadata": {},
   "outputs": [
    {
     "data": {
      "text/plain": [
       "6"
      ]
     },
     "execution_count": 29,
     "metadata": {},
     "output_type": "execute_result"
    }
   ],
   "source": [
    "n.v"
   ]
  },
  {
   "cell_type": "code",
   "execution_count": 30,
   "metadata": {},
   "outputs": [],
   "source": [
    "# V1.3\n",
    "class FirstTest:\n",
    "    def __init__(self, a, b, c):\n",
    "        self.a = a\n",
    "        self.b = b\n",
    "        self.c = c\n",
    "\n",
    "    def test(self):\n",
    "        return \"This is a math of firstTest class\"\n",
    "\n",
    "\n",
    "\n",
    "class SecondTest(FirstTest):\n",
    "\n",
    "    def __init__(self, p, q, v):\n",
    "        self.p = p\n",
    "        self.q = q\n",
    "        self.v = v\n",
    "\n",
    "    def test1(self):\n",
    "        return \"This is math from Second Class\"\n",
    "\n",
    "class ThirdTest(SecondTest):\n",
    "\n",
    "    def test2(self):\n",
    "        return \"I am from the math from third class\""
   ]
  },
  {
   "cell_type": "code",
   "execution_count": 31,
   "metadata": {},
   "outputs": [
    {
     "ename": "TypeError",
     "evalue": "__init__() missing 3 required positional arguments: 'p', 'q', and 'v'",
     "output_type": "error",
     "traceback": [
      "\u001b[0;31m---------------------------------------------------------------------------\u001b[0m",
      "\u001b[0;31mTypeError\u001b[0m                                 Traceback (most recent call last)",
      "Cell \u001b[0;32mIn[31], line 1\u001b[0m\n\u001b[0;32m----> 1\u001b[0m y \u001b[38;5;241m=\u001b[39m \u001b[43mThirdTest\u001b[49m\u001b[43m(\u001b[49m\u001b[43m)\u001b[49m\n",
      "\u001b[0;31mTypeError\u001b[0m: __init__() missing 3 required positional arguments: 'p', 'q', and 'v'"
     ]
    }
   ],
   "source": [
    "y = ThirdTest()"
   ]
  },
  {
   "cell_type": "code",
   "execution_count": 32,
   "metadata": {},
   "outputs": [],
   "source": [
    "y = ThirdTest(9,9,5)"
   ]
  },
  {
   "cell_type": "code",
   "execution_count": 34,
   "metadata": {},
   "outputs": [],
   "source": [
    "z = SecondTest(3,2,1)"
   ]
  },
  {
   "cell_type": "code",
   "execution_count": 37,
   "metadata": {},
   "outputs": [
    {
     "ename": "AttributeError",
     "evalue": "'SecondTest' object has no attribute 'a'",
     "output_type": "error",
     "traceback": [
      "\u001b[0;31m---------------------------------------------------------------------------\u001b[0m",
      "\u001b[0;31mAttributeError\u001b[0m                            Traceback (most recent call last)",
      "Cell \u001b[0;32mIn[37], line 1\u001b[0m\n\u001b[0;32m----> 1\u001b[0m \u001b[43mz\u001b[49m\u001b[38;5;241;43m.\u001b[39;49m\u001b[43ma\u001b[49m\n",
      "\u001b[0;31mAttributeError\u001b[0m: 'SecondTest' object has no attribute 'a'"
     ]
    }
   ],
   "source": [
    "z.a"
   ]
  },
  {
   "cell_type": "code",
   "execution_count": 38,
   "metadata": {},
   "outputs": [
    {
     "data": {
      "text/plain": [
       "'This is a math of firstTest class'"
      ]
     },
     "execution_count": 38,
     "metadata": {},
     "output_type": "execute_result"
    }
   ],
   "source": [
    "z.test()"
   ]
  },
  {
   "cell_type": "code",
   "execution_count": 39,
   "metadata": {},
   "outputs": [
    {
     "data": {
      "text/plain": [
       "'This is a math of firstTest class'"
      ]
     },
     "execution_count": 39,
     "metadata": {},
     "output_type": "execute_result"
    }
   ],
   "source": [
    "y.test()"
   ]
  },
  {
   "cell_type": "markdown",
   "metadata": {},
   "source": [
    "* Q1: Create the file class from resulting data from respective file with a method name read and write.\n",
    "\n",
    "* Q2: try ti inherit read ans write methods from the parent class to child to perform read and write operations"
   ]
  },
  {
   "cell_type": "code",
   "execution_count": 46,
   "metadata": {},
   "outputs": [],
   "source": [
    "# Q1\n",
    "import logging\n",
    "\n",
    "logging.basicConfig(filename='FileReadinglist.log', level = logging.DEBUG, format = \"%(asctime)s %(levelname)s %(message)s\", filemode='w')\n",
    "\n",
    "\n",
    "class File:\n",
    "\n",
    "    def __init__(self, filename):\n",
    "        logging.info(\"Creating the file instance variable\")\n",
    "        self.file = filename\n",
    "\n",
    "    def read(self):\n",
    "        logging.info(\"executing the read method\")\n",
    "        try:\n",
    "            with open(f'(self.file).txt', 'r') as f:\n",
    "                data = f.read()\n",
    "                return data\n",
    "        except FileNotFoundError as e:\n",
    "            logging.error(\"Error occured while reading the file\")\n",
    "            logging.exception(f\"Error is {e}\")\n",
    "\n",
    "    def write(self):\n",
    "        logging.info(\"executing the write method\")\n",
    "        try:\n",
    "            with open(f'(self.file).txt', 'w') as f:\n",
    "                data = f.write(data)\n",
    "                return data\n",
    "\n",
    "        except FileNotFoundError as e:\n",
    "            logging.error(\"something going wrong\")\n",
    "\n",
    "\n",
    "obj = File(\"Pappu Dindayal Kapgate\")  \n"
   ]
  },
  {
   "cell_type": "markdown",
   "metadata": {},
   "source": []
  },
  {
   "cell_type": "code",
   "execution_count": 65,
   "metadata": {},
   "outputs": [],
   "source": [
    "# Q2\n",
    "import logging\n",
    "\n",
    "logging.basicConfig(filename='FileReadinglist.log', level = logging.DEBUG, format = \"%(asctime)s %(levelname)s %(message)s\", filemode='w')\n",
    "\n",
    "\n",
    "class File:\n",
    "\n",
    "    def __init__(self, filename):\n",
    "        logging.info(\"Creating the file instance variable\")\n",
    "        self.file = filename\n",
    "\n",
    "    def read(self, file):\n",
    "        logging.info(\"executing the read method\")\n",
    "        try:\n",
    "            with open(f'(self.file).txt', 'r') as f:\n",
    "                data = f.read()\n",
    "                return data\n",
    "        except FileNotFoundError as e:\n",
    "            logging.error(\"Error occured while reading the file\")\n",
    "            logging.exception(f\"Error is {e}\")\n",
    "\n",
    "    def write(self, file):\n",
    "        logging.info(\"executing the write method\")\n",
    "        try:\n",
    "            with open(f'(self.file).txt', 'w') as f:\n",
    "                data = f.write(data)\n",
    "                return data\n",
    "\n",
    "        except FileNotFoundError as e:\n",
    "            logging.error(\"something going wrong\")\n",
    "\n",
    "\n",
    "class FileChild(File):\n",
    "\n",
    "    def __init__(self):\n",
    "        pass\n",
    "\n",
    "    def read1(self):\n",
    "        return \"inheritance of the read class which is can call parent\"\n",
    "\n",
    "obj = FileChild()"
   ]
  },
  {
   "cell_type": "code",
   "execution_count": 71,
   "metadata": {},
   "outputs": [
    {
     "ename": "TypeError",
     "evalue": "write() missing 1 required positional argument: 'file'",
     "output_type": "error",
     "traceback": [
      "\u001b[0;31m---------------------------------------------------------------------------\u001b[0m",
      "\u001b[0;31mTypeError\u001b[0m                                 Traceback (most recent call last)",
      "Cell \u001b[0;32mIn[71], line 2\u001b[0m\n\u001b[1;32m      1\u001b[0m obj\u001b[38;5;241m.\u001b[39mread(\u001b[38;5;124mr\u001b[39m\u001b[38;5;124m\"\u001b[39m\u001b[38;5;124mPappu_Dindayal_Kapgate.txt\u001b[39m\u001b[38;5;124m\"\u001b[39m) \n\u001b[0;32m----> 2\u001b[0m \u001b[43mobj\u001b[49m\u001b[38;5;241;43m.\u001b[39;49m\u001b[43mwrite\u001b[49m\u001b[43m(\u001b[49m\u001b[43m)\u001b[49m\n",
      "\u001b[0;31mTypeError\u001b[0m: write() missing 1 required positional argument: 'file'"
     ]
    }
   ],
   "source": [
    "obj.read(r\"Pappu_Dindayal_Kapgate.txt\") \n",
    "obj.write()"
   ]
  },
  {
   "cell_type": "code",
   "execution_count": 69,
   "metadata": {},
   "outputs": [
    {
     "ename": "TypeError",
     "evalue": "write() missing 1 required positional argument: 'file'",
     "output_type": "error",
     "traceback": [
      "\u001b[0;31m---------------------------------------------------------------------------\u001b[0m",
      "\u001b[0;31mTypeError\u001b[0m                                 Traceback (most recent call last)",
      "Cell \u001b[0;32mIn[69], line 1\u001b[0m\n\u001b[0;32m----> 1\u001b[0m \u001b[43mobj\u001b[49m\u001b[38;5;241;43m.\u001b[39;49m\u001b[43mwrite\u001b[49m\u001b[43m(\u001b[49m\u001b[43m)\u001b[49m\n",
      "\u001b[0;31mTypeError\u001b[0m: write() missing 1 required positional argument: 'file'"
     ]
    }
   ],
   "source": [
    "obj.write()"
   ]
  },
  {
   "cell_type": "code",
   "execution_count": null,
   "metadata": {},
   "outputs": [],
   "source": []
  }
 ],
 "metadata": {
  "kernelspec": {
   "display_name": "Python 3.9.13 64-bit",
   "language": "python",
   "name": "python3"
  },
  "language_info": {
   "codemirror_mode": {
    "name": "ipython",
    "version": 3
   },
   "file_extension": ".py",
   "mimetype": "text/x-python",
   "name": "python",
   "nbconvert_exporter": "python",
   "pygments_lexer": "ipython3",
   "version": "3.9.13"
  },
  "orig_nbformat": 4,
  "vscode": {
   "interpreter": {
    "hash": "b0fa6594d8f4cbf19f97940f81e996739fb7646882a419484c72d19e05852a7e"
   }
  }
 },
 "nbformat": 4,
 "nbformat_minor": 2
}
